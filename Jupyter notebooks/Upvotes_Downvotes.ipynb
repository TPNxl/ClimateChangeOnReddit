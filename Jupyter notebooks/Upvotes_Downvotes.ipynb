{
 "cells": [
  {
   "cell_type": "code",
   "execution_count": 3,
   "metadata": {},
   "outputs": [],
   "source": [
    "import pandas as pd\n",
    "import numpy as np\n",
    "import matplotlib as mpt"
   ]
  },
  {
   "cell_type": "code",
   "execution_count": null,
   "metadata": {},
   "outputs": [],
   "source": []
  },
  {
   "cell_type": "code",
   "execution_count": 4,
   "metadata": {},
   "outputs": [],
   "source": [
    "skeptics = pd.read_csv(\"..\\Other files\\climateskeptics.csv\")\n",
    "change = pd.read_csv(\"..\\Other files\\climatechange.csv\")"
   ]
  },
  {
   "cell_type": "code",
   "execution_count": null,
   "metadata": {},
   "outputs": [],
   "source": []
  },
  {
   "cell_type": "code",
   "execution_count": 5,
   "metadata": {},
   "outputs": [],
   "source": []
  },
  {
   "cell_type": "code",
   "execution_count": 10,
   "metadata": {},
   "outputs": [
    {
     "name": "stdout",
     "output_type": "stream",
     "text": [
      "Skeptics:\n",
      "Total votes: \n",
      "276153\n",
      "\n",
      "Upvotes: \n",
      "322594\n",
      "\n",
      "Downvotes: \n",
      "46441\n",
      "\n",
      "Average votes per post:\n",
      "2.0177183189151275\n"
     ]
    }
   ],
   "source": [
    "votes = 0\n",
    "ups = 0\n",
    "downs = 0\n",
    "## Skeptics\n",
    "for i in range(0,skeptics[\"ups\"].count()):\n",
    "    tempvotes = skeptics[\"ups\"].iloc[i]\n",
    "    votes += tempvotes\n",
    "    if tempvotes < 0:\n",
    "        downs += tempvotes *-1\n",
    "    else:\n",
    "        ups += tempvotes\n",
    "print(\"Skeptics:\\nTotal votes: \")\n",
    "print(votes)\n",
    "print(\"\\nUpvotes: \")\n",
    "print(ups)\n",
    "print(\"\\nDownvotes: \")\n",
    "print(downs)\n",
    "print(\"\\nAverage votes per post:\")\n",
    "avg = votes/skeptics[\"ups\"].count()\n",
    "print(avg)"
   ]
  },
  {
   "cell_type": "code",
   "execution_count": null,
   "metadata": {},
   "outputs": [],
   "source": []
  },
  {
   "cell_type": "code",
   "execution_count": 11,
   "metadata": {},
   "outputs": [
    {
     "name": "stdout",
     "output_type": "stream",
     "text": [
      "Change:\n",
      "Total votes: \n",
      "4549\n",
      "\n",
      "Upvotes: \n",
      "5756\n",
      "\n",
      "Downvotes: \n",
      "1207\n",
      "\n",
      "Average votes per post:\n",
      "1.0966730954676953\n"
     ]
    }
   ],
   "source": [
    "votes = 0\n",
    "ups = 0\n",
    "downs = 0\n",
    "## Change\n",
    "for i in range(0,change[\"ups\"].count()):\n",
    "    tempvotes = change[\"ups\"].iloc[i]\n",
    "    votes += tempvotes\n",
    "    if tempvotes < 0:\n",
    "        downs += tempvotes *-1\n",
    "    else:\n",
    "        ups += tempvotes\n",
    "print(\"Change:\\nTotal votes: \")\n",
    "print(votes)\n",
    "print(\"\\nUpvotes: \")\n",
    "print(ups)\n",
    "print(\"\\nDownvotes: \")\n",
    "print(downs)\n",
    "print(\"\\nAverage votes per post:\")\n",
    "avg = votes/change[\"ups\"].count()\n",
    "print(avg)"
   ]
  },
  {
   "cell_type": "code",
   "execution_count": null,
   "metadata": {},
   "outputs": [],
   "source": []
  },
  {
   "cell_type": "code",
   "execution_count": null,
   "metadata": {},
   "outputs": [],
   "source": []
  },
  {
   "cell_type": "code",
   "execution_count": null,
   "metadata": {},
   "outputs": [],
   "source": []
  },
  {
   "cell_type": "code",
   "execution_count": null,
   "metadata": {},
   "outputs": [],
   "source": []
  },
  {
   "cell_type": "code",
   "execution_count": null,
   "metadata": {},
   "outputs": [],
   "source": [
    "votes"
   ]
  },
  {
   "cell_type": "code",
   "execution_count": null,
   "metadata": {},
   "outputs": [],
   "source": []
  }
 ],
 "metadata": {
  "kernelspec": {
   "display_name": "Python 3",
   "language": "python",
   "name": "python3"
  },
  "language_info": {
   "codemirror_mode": {
    "name": "ipython",
    "version": 3
   },
   "file_extension": ".py",
   "mimetype": "text/x-python",
   "name": "python",
   "nbconvert_exporter": "python",
   "pygments_lexer": "ipython3",
   "version": "3.7.2"
  }
 },
 "nbformat": 4,
 "nbformat_minor": 2
}
