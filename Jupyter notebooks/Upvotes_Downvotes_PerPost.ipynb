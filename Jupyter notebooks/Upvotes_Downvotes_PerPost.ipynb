{
 "cells": [
  {
   "cell_type": "markdown",
   "metadata": {},
   "source": [
    "Postive is >1, Neutral is 1 and 0, Negative is <0"
   ]
  },
  {
   "cell_type": "code",
   "execution_count": 1,
   "metadata": {},
   "outputs": [],
   "source": [
    "import pandas as pd\n",
    "import numpy as np\n",
    "import matplotlib as mpt"
   ]
  },
  {
   "cell_type": "code",
   "execution_count": 2,
   "metadata": {},
   "outputs": [],
   "source": [
    "skeptics = pd.read_csv(\"..\\Other files\\climateskeptics.csv\")\n",
    "change = pd.read_csv(\"..\\Other files\\climatechange.csv\")"
   ]
  },
  {
   "cell_type": "code",
   "execution_count": 3,
   "metadata": {},
   "outputs": [],
   "source": [
    "final_data = pd.DataFrame()\n",
    "final_data[\"Subreddit name\"] = \"\"\n",
    "final_data[\"Total posts\"] = 0\n",
    "final_data[\"Posts w/ positive vote number (n)\"] = 0\n",
    "final_data[\"Posts w/ positive vote number (%)\"] = 0\n",
    "final_data[\"Posts w/ negative vote number (n)\"] = 0\n",
    "final_data[\"Posts w/ negative vote number (%)\"] = 0\n",
    "final_data[\"Posts w/ neutral vote number (n)\"] = 0\n",
    "final_data[\"Posts w/ neutral vote number (%)\"] = 0"
   ]
  },
  {
   "cell_type": "code",
   "execution_count": 4,
   "metadata": {},
   "outputs": [],
   "source": [
    "posts = 0\n",
    "ups = 0\n",
    "downs = 0\n",
    "neutral = 0\n",
    "## Skeptics\n",
    "for i in range(0,skeptics[\"ups\"].count()):\n",
    "    tempvotes = skeptics[\"ups\"].iloc[i]\n",
    "    posts += 1\n",
    "    if tempvotes < 0:\n",
    "        downs += 1\n",
    "    elif tempvotes > 1:\n",
    "        ups += 1\n",
    "    else:\n",
    "        neutral += 1\n",
    "final_data = final_data.append({\"Subreddit name\" : \"Skeptics\", \"Total posts\" : posts,\\\n",
    "                                \"Posts w/ positive vote number (n)\" : ups, \"Posts w/ positive vote number (%)\" : ups*100/posts,\\\n",
    "                                \"Posts w/ negative vote number (n)\" : downs, \"Posts w/ negative vote number (%)\" : downs*100/posts,\\\n",
    "                                \"Posts w/ neutral vote number (n)\" : neutral, \"Posts w/ neutral vote number (%)\" : neutral*100/posts,\\\n",
    "                               }, ignore_index=True)"
   ]
  },
  {
   "cell_type": "code",
   "execution_count": 5,
   "metadata": {},
   "outputs": [],
   "source": [
    "posts = 0\n",
    "ups = 0\n",
    "downs = 0\n",
    "neutral = 0\n",
    "## Change\n",
    "for i in range(0,change[\"ups\"].count()):\n",
    "    tempvotes = change[\"ups\"].iloc[i]\n",
    "    posts += 1\n",
    "    if tempvotes < 0:\n",
    "        downs += 1\n",
    "    elif tempvotes > 1:\n",
    "        ups += 1\n",
    "    else:\n",
    "        neutral += 1\n",
    "final_data = final_data.append({\"Subreddit name\" : \"Change\", \"Total posts\" : posts,\\\n",
    "                                \"Posts w/ positive vote number (n)\" : ups, \"Posts w/ positive vote number (%)\" : ups*100/posts,\\\n",
    "                                \"Posts w/ negative vote number (n)\" : downs, \"Posts w/ negative vote number (%)\" : downs*100/posts,\\\n",
    "                                \"Posts w/ neutral vote number (n)\" : neutral, \"Posts w/ neutral vote number (%)\" : neutral*100/posts,\\\n",
    "                               }, ignore_index=True)"
   ]
  },
  {
   "cell_type": "code",
   "execution_count": 6,
   "metadata": {},
   "outputs": [
    {
     "data": {
      "text/html": [
       "<div>\n",
       "<style scoped>\n",
       "    .dataframe tbody tr th:only-of-type {\n",
       "        vertical-align: middle;\n",
       "    }\n",
       "\n",
       "    .dataframe tbody tr th {\n",
       "        vertical-align: top;\n",
       "    }\n",
       "\n",
       "    .dataframe thead th {\n",
       "        text-align: right;\n",
       "    }\n",
       "</style>\n",
       "<table border=\"1\" class=\"dataframe\">\n",
       "  <thead>\n",
       "    <tr style=\"text-align: right;\">\n",
       "      <th></th>\n",
       "      <th>Subreddit name</th>\n",
       "      <th>Total posts</th>\n",
       "      <th>Posts w/ positive vote number (n)</th>\n",
       "      <th>Posts w/ positive vote number (%)</th>\n",
       "      <th>Posts w/ negative vote number (n)</th>\n",
       "      <th>Posts w/ negative vote number (%)</th>\n",
       "      <th>Posts w/ neutral vote number (n)</th>\n",
       "      <th>Posts w/ neutral vote number (%)</th>\n",
       "    </tr>\n",
       "  </thead>\n",
       "  <tbody>\n",
       "    <tr>\n",
       "      <th>0</th>\n",
       "      <td>Skeptics</td>\n",
       "      <td>136864</td>\n",
       "      <td>74205</td>\n",
       "      <td>54.218056</td>\n",
       "      <td>18235</td>\n",
       "      <td>13.323445</td>\n",
       "      <td>44424</td>\n",
       "      <td>32.458499</td>\n",
       "    </tr>\n",
       "    <tr>\n",
       "      <th>1</th>\n",
       "      <td>Change</td>\n",
       "      <td>4148</td>\n",
       "      <td>1290</td>\n",
       "      <td>31.099325</td>\n",
       "      <td>438</td>\n",
       "      <td>10.559306</td>\n",
       "      <td>2420</td>\n",
       "      <td>58.341369</td>\n",
       "    </tr>\n",
       "  </tbody>\n",
       "</table>\n",
       "</div>"
      ],
      "text/plain": [
       "  Subreddit name  Total posts  Posts w/ positive vote number (n)  \\\n",
       "0       Skeptics       136864                              74205   \n",
       "1         Change         4148                               1290   \n",
       "\n",
       "   Posts w/ positive vote number (%)  Posts w/ negative vote number (n)  \\\n",
       "0                          54.218056                              18235   \n",
       "1                          31.099325                                438   \n",
       "\n",
       "   Posts w/ negative vote number (%)  Posts w/ neutral vote number (n)  \\\n",
       "0                          13.323445                             44424   \n",
       "1                          10.559306                              2420   \n",
       "\n",
       "   Posts w/ neutral vote number (%)  \n",
       "0                         32.458499  \n",
       "1                         58.341369  "
      ]
     },
     "execution_count": 6,
     "metadata": {},
     "output_type": "execute_result"
    }
   ],
   "source": [
    "final_data"
   ]
  }
 ],
 "metadata": {
  "kernelspec": {
   "display_name": "Python 3",
   "language": "python",
   "name": "python3"
  },
  "language_info": {
   "codemirror_mode": {
    "name": "ipython",
    "version": 3
   },
   "file_extension": ".py",
   "mimetype": "text/x-python",
   "name": "python",
   "nbconvert_exporter": "python",
   "pygments_lexer": "ipython3",
   "version": "3.7.2"
  }
 },
 "nbformat": 4,
 "nbformat_minor": 2
}
