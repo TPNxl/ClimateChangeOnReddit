{
 "cells": [
  {
   "cell_type": "code",
   "execution_count": 1,
   "metadata": {},
   "outputs": [],
   "source": [
    "import pandas as pd\n",
    "import numpy as np\n",
    "import matplotlib as mpt"
   ]
  },
  {
   "cell_type": "code",
   "execution_count": 2,
   "metadata": {},
   "outputs": [],
   "source": [
    "skeptics = pd.read_csv(\"..\\Other files\\climateskeptics.csv\")\n",
    "change = pd.read_csv(\"..\\Other files\\climatechange.csv\")"
   ]
  },
  {
   "cell_type": "code",
   "execution_count": 3,
   "metadata": {},
   "outputs": [],
   "source": [
    "final_data = pd.DataFrame()\n",
    "final_data[\"Subreddit name\"] = \"\"\n",
    "final_data[\"Total votes\"] = 0\n",
    "final_data[\"Upvotes\"] = 0\n",
    "final_data[\"Downvotes\"] = 0\n",
    "final_data[\"Average votes\"] = 0.0"
   ]
  },
  {
   "cell_type": "code",
   "execution_count": 4,
   "metadata": {},
   "outputs": [],
   "source": [
    "## Skeptics\n",
    "votes = 0\n",
    "ups = 0\n",
    "downs = 0\n",
    "\n",
    "for i in range(0,skeptics[\"ups\"].count()):\n",
    "    tempvotes = skeptics[\"ups\"].iloc[i]\n",
    "    votes += tempvotes\n",
    "    if tempvotes < 0:\n",
    "        downs += tempvotes *-1\n",
    "    else:\n",
    "        ups += tempvotes\n",
    "final_data = final_data.append({\"Subreddit name\" : \"Skeptics\", \"Total votes\" : votes,\\\n",
    "                                \"Upvotes\" : ups, \"Downvotes\" : downs,\\\n",
    "                                \"Average votes\" : votes/skeptics[\"ups\"].count()}, ignore_index=True)"
   ]
  },
  {
   "cell_type": "code",
   "execution_count": 5,
   "metadata": {},
   "outputs": [],
   "source": [
    "## Change\n",
    "votes = 0\n",
    "ups = 0\n",
    "downs = 0\n",
    "\n",
    "for i in range(0,change[\"ups\"].count()):\n",
    "    tempvotes = change[\"ups\"].iloc[i]\n",
    "    votes += tempvotes\n",
    "    if tempvotes < 0:\n",
    "        downs += tempvotes *-1\n",
    "    else:\n",
    "        ups += tempvotes\n",
    "final_data = final_data.append({\"Subreddit name\" : \"Change\", \"Total votes\" : votes,\\\n",
    "                                \"Upvotes\" : ups, \"Downvotes\" : downs,\\\n",
    "                                \"Average votes\" : votes/change[\"ups\"].count()}, ignore_index=True)"
   ]
  },
  {
   "cell_type": "code",
   "execution_count": 6,
   "metadata": {},
   "outputs": [
    {
     "data": {
      "text/html": [
       "<div>\n",
       "<style scoped>\n",
       "    .dataframe tbody tr th:only-of-type {\n",
       "        vertical-align: middle;\n",
       "    }\n",
       "\n",
       "    .dataframe tbody tr th {\n",
       "        vertical-align: top;\n",
       "    }\n",
       "\n",
       "    .dataframe thead th {\n",
       "        text-align: right;\n",
       "    }\n",
       "</style>\n",
       "<table border=\"1\" class=\"dataframe\">\n",
       "  <thead>\n",
       "    <tr style=\"text-align: right;\">\n",
       "      <th></th>\n",
       "      <th>Subreddit name</th>\n",
       "      <th>Total votes</th>\n",
       "      <th>Upvotes</th>\n",
       "      <th>Downvotes</th>\n",
       "      <th>Average votes</th>\n",
       "    </tr>\n",
       "  </thead>\n",
       "  <tbody>\n",
       "    <tr>\n",
       "      <th>0</th>\n",
       "      <td>Skeptics</td>\n",
       "      <td>276153</td>\n",
       "      <td>322594</td>\n",
       "      <td>46441</td>\n",
       "      <td>2.017718</td>\n",
       "    </tr>\n",
       "    <tr>\n",
       "      <th>1</th>\n",
       "      <td>Change</td>\n",
       "      <td>4549</td>\n",
       "      <td>5756</td>\n",
       "      <td>1207</td>\n",
       "      <td>1.096673</td>\n",
       "    </tr>\n",
       "  </tbody>\n",
       "</table>\n",
       "</div>"
      ],
      "text/plain": [
       "  Subreddit name  Total votes  Upvotes  Downvotes  Average votes\n",
       "0       Skeptics       276153   322594      46441       2.017718\n",
       "1         Change         4549     5756       1207       1.096673"
      ]
     },
     "execution_count": 6,
     "metadata": {},
     "output_type": "execute_result"
    }
   ],
   "source": [
    "final_data"
   ]
  }
 ],
 "metadata": {
  "kernelspec": {
   "display_name": "Python 3",
   "language": "python",
   "name": "python3"
  },
  "language_info": {
   "codemirror_mode": {
    "name": "ipython",
    "version": 3
   },
   "file_extension": ".py",
   "mimetype": "text/x-python",
   "name": "python",
   "nbconvert_exporter": "python",
   "pygments_lexer": "ipython3",
   "version": "3.7.2"
  }
 },
 "nbformat": 4,
 "nbformat_minor": 2
}
