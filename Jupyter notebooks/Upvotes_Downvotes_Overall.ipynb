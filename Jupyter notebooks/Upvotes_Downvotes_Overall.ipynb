{
 "cells": [
  {
   "cell_type": "code",
   "execution_count": 1,
   "metadata": {},
   "outputs": [],
   "source": [
    "import pandas as pd\n",
    "import numpy as np\n",
    "import matplotlib.pyplot as plt"
   ]
  },
  {
   "cell_type": "code",
   "execution_count": 2,
   "metadata": {},
   "outputs": [],
   "source": [
    "skeptics = pd.read_csv(\"..\\Other files\\climateskeptics.csv\")\n",
    "change = pd.read_csv(\"..\\Other files\\climatechange.csv\")"
   ]
  },
  {
   "cell_type": "code",
   "execution_count": 3,
   "metadata": {},
   "outputs": [],
   "source": [
    "final_data = pd.DataFrame()\n",
    "final_data[\"Subreddit name\"] = \"\"\n",
    "final_data[\"Total votes\"] = 0\n",
    "final_data[\"Absolute votes\"] = 0\n",
    "final_data[\"Upvotes\"] = 0\n",
    "final_data[\"Downvotes\"] = 0\n",
    "final_data[\"Average votes\"] = 0.0\n",
    "final_data[\"Average activity\"] = 0.0"
   ]
  },
  {
   "cell_type": "code",
   "execution_count": 4,
   "metadata": {},
   "outputs": [],
   "source": [
    "## Skeptics\n",
    "absolute_votes = 0\n",
    "votes = 0\n",
    "ups = 0\n",
    "downs = 0\n",
    "\n",
    "for i in range(0,skeptics[\"ups\"].count()):\n",
    "    tempvotes = skeptics[\"ups\"].iloc[i]\n",
    "    votes += tempvotes\n",
    "    if tempvotes < 0:\n",
    "        downs += tempvotes *-1\n",
    "        absolute_votes += tempvotes *-1\n",
    "    else:\n",
    "        ups += tempvotes\n",
    "        absolute_votes += tempvotes\n",
    "final_data = final_data.append({\"Subreddit name\" : \"Skeptics\", \"Total votes\" : votes,\\\n",
    "                                \"Absolute votes\" : absolute_votes, \"Upvotes\" : ups, \"Downvotes\" : downs,\\\n",
    "                                \"Average votes\" : votes/skeptics[\"ups\"].count(),\\\n",
    "                                \"Average activity\" : absolute_votes/skeptics[\"ups\"].count()}, ignore_index=True)"
   ]
  },
  {
   "cell_type": "code",
   "execution_count": 5,
   "metadata": {},
   "outputs": [],
   "source": [
    "## Change\n",
    "absolute_votes = 0\n",
    "votes = 0\n",
    "ups = 0\n",
    "downs = 0\n",
    "\n",
    "for i in range(0,change[\"ups\"].count()):\n",
    "    tempvotes = change[\"ups\"].iloc[i]\n",
    "    votes += tempvotes\n",
    "    if tempvotes < 0:\n",
    "        downs += tempvotes *-1\n",
    "        absolute_votes += tempvotes *-1\n",
    "    else:\n",
    "        ups += tempvotes\n",
    "        absolute_votes += tempvotes\n",
    "final_data = final_data.append({\"Subreddit name\" : \"Change\", \"Total votes\" : votes,\\\n",
    "                                \"Absolute votes\" : absolute_votes, \"Upvotes\" : ups, \"Downvotes\" : downs,\\\n",
    "                                \"Average votes\" : votes/change[\"ups\"].count(),\\\n",
    "                                \"Average activity\" : absolute_votes/change[\"ups\"].count()} , ignore_index=True)"
   ]
  },
  {
   "cell_type": "code",
   "execution_count": 6,
   "metadata": {},
   "outputs": [
    {
     "data": {
      "text/html": [
       "<div>\n",
       "<style scoped>\n",
       "    .dataframe tbody tr th:only-of-type {\n",
       "        vertical-align: middle;\n",
       "    }\n",
       "\n",
       "    .dataframe tbody tr th {\n",
       "        vertical-align: top;\n",
       "    }\n",
       "\n",
       "    .dataframe thead th {\n",
       "        text-align: right;\n",
       "    }\n",
       "</style>\n",
       "<table border=\"1\" class=\"dataframe\">\n",
       "  <thead>\n",
       "    <tr style=\"text-align: right;\">\n",
       "      <th></th>\n",
       "      <th>Subreddit name</th>\n",
       "      <th>Total votes</th>\n",
       "      <th>Absolute votes</th>\n",
       "      <th>Upvotes</th>\n",
       "      <th>Downvotes</th>\n",
       "      <th>Average votes</th>\n",
       "      <th>Average activity</th>\n",
       "    </tr>\n",
       "  </thead>\n",
       "  <tbody>\n",
       "    <tr>\n",
       "      <th>0</th>\n",
       "      <td>Skeptics</td>\n",
       "      <td>8528</td>\n",
       "      <td>11240</td>\n",
       "      <td>9884</td>\n",
       "      <td>1356</td>\n",
       "      <td>2.055931</td>\n",
       "      <td>2.70974</td>\n",
       "    </tr>\n",
       "    <tr>\n",
       "      <th>1</th>\n",
       "      <td>Change</td>\n",
       "      <td>4549</td>\n",
       "      <td>6963</td>\n",
       "      <td>5756</td>\n",
       "      <td>1207</td>\n",
       "      <td>1.096673</td>\n",
       "      <td>1.67864</td>\n",
       "    </tr>\n",
       "  </tbody>\n",
       "</table>\n",
       "</div>"
      ],
      "text/plain": [
       "  Subreddit name  Total votes  Absolute votes  Upvotes  Downvotes  \\\n",
       "0       Skeptics         8528           11240     9884       1356   \n",
       "1         Change         4549            6963     5756       1207   \n",
       "\n",
       "   Average votes  Average activity  \n",
       "0       2.055931           2.70974  \n",
       "1       1.096673           1.67864  "
      ]
     },
     "execution_count": 6,
     "metadata": {},
     "output_type": "execute_result"
    }
   ],
   "source": [
    "final_data"
   ]
  },
  {
   "cell_type": "code",
   "execution_count": 7,
   "metadata": {
    "scrolled": true
   },
   "outputs": [
    {
     "data": {
      "image/png": "[encoded data removed]",
      "text/plain": [
       "<Figure size 432x288 with 1 Axes>"
      ]
     },
     "metadata": {
      "needs_background": "light"
     },
     "output_type": "display_data"
    }
   ],
   "source": [
    "n_groups = 2\n",
    "values_skeptics = (final_data[\"Average votes\"].iloc[0],\\\n",
    "                   final_data[\"Average activity\"].iloc[0])\n",
    "values_change = (final_data[\"Average votes\"].iloc[1],\\\n",
    "                 final_data[\"Average activity\"].iloc[1])\n",
    "\n",
    "# create plot\n",
    "fig, ax = plt.subplots()\n",
    "index = np.arange(n_groups)\n",
    "bar_width = 0.3\n",
    "opacity = 1\n",
    "\n",
    "rects1 = plt.bar(index, values_skeptics, bar_width,\n",
    "alpha=opacity,\n",
    "color='b',\n",
    "label='r/ClimateSkeptics')\n",
    "\n",
    "rects2 = plt.bar(index + bar_width, values_change, bar_width,\n",
    "alpha=opacity,\n",
    "color='r',\n",
    "label='r/ClimateChange')\n",
    "\n",
    "plt.xlabel('')\n",
    "plt.ylabel('Number of votes per post')\n",
    "plt.title('Average votes and activity in each subreddit')\n",
    "plt.xticks(index + bar_width/2, ('Average votes', 'Average activity'))\n",
    "plt.legend()\n",
    "\n",
    "plt.tight_layout()\n",
    "plt.show()"
   ]
  },
  {
   "cell_type": "code",
   "execution_count": 8,
   "metadata": {},
   "outputs": [
    {
     "data": {
      "image/png": "[encoded data removed]",
      "text/plain": [
       "<Figure size 432x288 with 1 Axes>"
      ]
     },
     "metadata": {
      "needs_background": "light"
     },
     "output_type": "display_data"
    }
   ],
   "source": [
    "n_groups = 2\n",
    "values_skeptics = (final_data[\"Upvotes\"].iloc[0]*100/final_data[\"Absolute votes\"].iloc[0],\\\n",
    "                   final_data[\"Downvotes\"].iloc[0]*100/final_data[\"Absolute votes\"].iloc[0])\n",
    "values_change = (final_data[\"Upvotes\"].iloc[1]*100/final_data[\"Absolute votes\"].iloc[1],\\\n",
    "                   final_data[\"Downvotes\"].iloc[1]*100/final_data[\"Absolute votes\"].iloc[1])\n",
    "\n",
    "# create plot\n",
    "fig, ax = plt.subplots()\n",
    "index = np.arange(n_groups)\n",
    "bar_width = 0.3\n",
    "opacity = 1\n",
    "\n",
    "rects1 = plt.bar(index, values_skeptics, bar_width,\n",
    "alpha=opacity,\n",
    "color='b',\n",
    "label='r/ClimateSkeptics')\n",
    "\n",
    "rects2 = plt.bar(index + bar_width, values_change, bar_width,\n",
    "alpha=opacity,\n",
    "color='r',\n",
    "label='r/ClimateChange')\n",
    "\n",
    "plt.xlabel('Types of vote')\n",
    "plt.ylabel('% of votes')\n",
    "plt.title('Types of votes in each subreddit')\n",
    "plt.xticks(index + bar_width/2, ('Upvotes', 'Downvotes'))\n",
    "plt.legend()\n",
    "\n",
    "plt.tight_layout()\n",
    "plt.show()"
   ]
  },
  {
   "cell_type": "code",
   "execution_count": 9,
   "metadata": {},
   "outputs": [
    {
     "data": {
      "image/png": "[encoded data removed]",
      "text/plain": [
       "<Figure size 432x288 with 1 Axes>"
      ]
     },
     "metadata": {
      "needs_background": "light"
     },
     "output_type": "display_data"
    }
   ],
   "source": [
    "n_groups = 4\n",
    "values_skeptics = (final_data[\"Total votes\"].iloc[0],\\\n",
    "                   final_data[\"Absolute votes\"].iloc[0],\\\n",
    "                   final_data[\"Upvotes\"].iloc[0],\\\n",
    "                  final_data[\"Downvotes\"].iloc[0])\n",
    "values_change = (final_data[\"Total votes\"].iloc[1],\\\n",
    "                 final_data[\"Absolute votes\"].iloc[1],\\\n",
    "                   final_data[\"Upvotes\"].iloc[1],\\\n",
    "                  final_data[\"Downvotes\"].iloc[1])\n",
    "\n",
    "# create plot\n",
    "fig, ax = plt.subplots()\n",
    "index = np.arange(n_groups)\n",
    "bar_width = 0.3\n",
    "opacity = 1\n",
    "\n",
    "rects1 = plt.bar(index, values_skeptics, bar_width,\n",
    "alpha=opacity,\n",
    "color='b',\n",
    "label='r/ClimateSkeptics')\n",
    "\n",
    "rects2 = plt.bar(index + bar_width, values_change, bar_width,\n",
    "alpha=opacity,\n",
    "color='r',\n",
    "label='r/ClimateChange')\n",
    "\n",
    "plt.xlabel('')\n",
    "plt.ylabel('Number of votes')\n",
    "plt.title('Votes on posts in each subreddit')\n",
    "plt.xticks(index + bar_width/2, ('Total votes', 'Absolute votes', 'Upvotes', 'Downvotes'))\n",
    "plt.legend()\n",
    "\n",
    "plt.tight_layout()\n",
    "plt.show()"
   ]
  }
 ],
 "metadata": {
  "kernelspec": {
   "display_name": "Python 3",
   "language": "python",
   "name": "python3"
  },
  "language_info": {
   "codemirror_mode": {
    "name": "ipython",
    "version": 3
   },
   "file_extension": ".py",
   "mimetype": "text/x-python",
   "name": "python",
   "nbconvert_exporter": "python",
   "pygments_lexer": "ipython3",
   "version": "3.7.2"
  }
 },
 "nbformat": 4,
 "nbformat_minor": 2
}
