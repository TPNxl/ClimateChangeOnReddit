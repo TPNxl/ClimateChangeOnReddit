{
 "cells": [
  {
   "cell_type": "code",
   "execution_count": 2,
   "metadata": {},
   "outputs": [],
   "source": [
    "import pandas as pd\n",
    "import numpy as np\n",
    "import matplotlib.pyplot as plt"
   ]
  },
  {
   "cell_type": "code",
   "execution_count": 3,
   "metadata": {},
   "outputs": [],
   "source": [
    "skeptics = pd.read_csv(\"..\\Other files\\climateskeptics.csv\")\n",
    "change = pd.read_csv(\"..\\Other files\\climatechange.csv\")\n",
    "skeptics_old = pd.read_csv(\"..\\Other files\\climateskeptics.old.csv\")"
   ]
  },
  {
   "cell_type": "code",
   "execution_count": 19,
   "metadata": {},
   "outputs": [
    {
     "name": "stdout",
     "output_type": "stream",
     "text": [
      "461\n",
      "['counters', 'Will_Power', 'publius_lxxii', 'OortCloud', 'climate_control', 'LWRellim', 'logicalprogressive', 'archiesteel', 'Florinator', 'TheTravelerJim', 'goodturndaily', 'JRugman', 'Kelly_jernigan', 'donaldosaurus', 'FireFoxG', 'Kid-Quantum', 'pnewell', 'jakenichols', 'Tree-Thugger', 'heystoopid', '5user5', 'nuclear_is_good', 'somethinginteresting', 'ILikeNeurons', 'barttali', 'getampedin', 'GTChessplayer', 'stp2007', 'TheFerretman', 'fungussa', 'ninthinning', 'ozric101', 'Tommy27', 'jakenichols2', 'Muffy1234', 'TheKolbrin', 'LinkFixerBotSnr', 'lcd_monitor', 'cavehobbit', 'fartlex_m', 'autowikibot', 'Poptech', 'brianpv', 'fapstoanimalpictures', 'nimbuscile', 'LinkFixerBot', 'feepit', 'plathtic_thong', 'Truthoverdogma', 'KielGunner', 'thenwhat', 'keith_weaver', 'Disingenuous_', 'daniswhopper', 'autotldr', 'michaelconfoy', 'nogodsorkings1', 'ClimateMom', 'SuperSooty', 'FabiusMaximus01', 'Long_dan', 'kennbmondo', 'ishouldvelefther', 'meyamashi', 'Brimshae', 'blackdevildisco', 'doesdrums', 'Hermeias', 'SlaveKeyboardist', 'The3rdWorld', 'Bestpaperplaneever', 'tentacular', 'Joan_W', 'eestileib', 'trueslicky', 'balanceofpower', 'oriansbelt', 'legacy_of_fail', 'yself', 'gefroh', 'orlyfactor', 'danielsideas', 'Fuzzytek', 'savemadebyhextall', 'keg98', 'AcrossTheUniverse2', 'internet_sage', 'mollymule', 'HurricanePete', 'neotropic9', 'Fencepost7', 'asherdi', 'Surfingforchange', 'TheShittyBeatles', 'kategardiner', 'ChetnBernie', 'ianfd', 'PanachelessNihilist', 'EyeTea420', 'Skwerl23', 'IranRPCV', 'Knuckle_Child', 'evelnl', 'YoRpFiSh', 'bunknown', 'astral-dwarf', 'PinkSlimeIsPeople', 'BountyBob', 'Crash_says', 'qianian', 'alferg', 'danielgoerz', 'facepalm-germany', 'UncleVinny', 'fluffy5525', 'SovereignSnowman', 'Charmandine', 'luckymon', 'nfrmn', 'Marin1970', 'aether_net', 'winstoncloselabor', 'akornblatt', 'squidit', 'itgemgirl', 'nikarajo', 'RentalCanoe', 'octaviusromulus', 'LazyLinkerBot', 'chrisplyon', 'Lifepodlifepod', 'dana1981', 'G-3-R', 'paszdahl', 'go-ozone-layer', 'hippocampe', 'mattfiller', 'Akaky', 'acasey07', 'Wisco', 'pshaffer', 'Smargalicious', 'murbe', 'svnftgmp', 'fritter_rabbit', 'captain_obvious_1980', 'dsennerud', 'lobster_liberator', '4TimesAYear', 'MadRed7', 'davo112358', 'fuckyoua', 'FreeThinkk', 'johnabbe', 'DanMcMurray', 'JMS1960', 'tootouching', 'Quillchill', 'StellaMeme', 'geogrageek', 'mrmoustache8765', 'moesif', 'dmclone', 'blueskyfire', 'D832881370', 'xkcd_transcriber', 'WontReadYourComment', 'trevize1138', 'silvertam', 'RHfactored', 'plancklengthman', 'RAndrewOhge', 'phpnepal', 'okcDom', 'Armsopen', 'chchako', 'kandiliotis', 'DonScrub', 'dielectrician', 'mundusvultdecipi', 'icebgone', 'funspirit', '1quickdub', 'mubukugrappa', 'laxaroundtheworld', 'the_blue_whale', 'ceramicfiver', 'student_of_yoshi', 'righteousmoss', 'Glaciologytim', 'jamaican1231', 'Ryan_Konky', 'CapriciousCactus', 'burning_consciousnes', 'thoughttheory', 'sounfunny', 'Barnesius', 'edieangelo', 'eifer', 'BungalowMonk', 'sorasteve', 'Ozzsanity', 'fpopper', 'Sierra_Echo_Foxtrot', 'jcorkern', 'michebru', 'Achilles-Opinion', 'WhiteWhereItHurts', 'Sluuha', 'rolldeep', 'athomps121', 'blondie9x', 'Enderthe3rd', 'Mauzee1', 'Resp1ra', 'CaptainHoek', 'Magsays', 'Hawkeye24', 'andlookmore', 'Praetor80', 'pdeee', 'RobertEmRu', 'amandatatts', 'Brenda_McCracken', 'ahmrbond', 'photoddgrapher', 'quakerorts', 'PenguinScientist', 'dredmorbius', 'chicomathmom', 'BookwormSkates', 'kellymcneill', 'PetersonToscano', 'istockporno', 'tkwong01', 'NotFromReddit', 'sdonaghy', 'BoneyKidd', 'slam7211', 'sharplet', 'rippley', 'noobftw', 'conuly', 'ibelivebut', 'googlecacheguy', 'RedditBronzePls', 'Ebenezer_Wurstphal', 'Voveve', 'thisiswhatitsnot', 'BrutalTruth101', 'cessationoftime', 'Nikolatesla365', 'gihu', 'phobia_of_fear', 'drrobertbullard', 'asleepatwork', 'a_boiling_frog', 'loicwacquant', 'hongykong', 'Stacksup', 'Breakyerself', 'HenryCorp', 'GodpoG', 'Xatana', 'AsianCrustacean', 'jabbrwok', 'Cruzi2000', 'hintofinsanity', 'sevenfootgimp', 'cryan1411', 'Dattausc', 'mars_omega', 'BolshevikRed', 'eastbay43', 'chitown15', 'the_coin_collecter', 'usersame', 'keozen', 'OhioJunglist2', 'ANGLVD3TH', 'forrey', 'WhoCutTheCheeze', 'powersthatbe1', 'clydesdaletrash', 'jhoptoad', 'huntebrinker', 'Aquareon', 'sigilvii', 'mikebigs', 'Detective_McNutty', 'Rx16', 'cuse58', 'smokinjoewiseman', 'aronhall', 'wcmurphy19', 'paszdahl2', 'Vkmies', 'TheBaldWonder', 'funkalunatic', 'ParallaxBrew', 'ArtisticLicence', 'chris45215', 'SomeoneRedditOnce', 'noshlag', 'ananhedonist', 'GarryRogers', 'rlbond86', 'Safetythirst', 'Juhic', 'Shnazzyone', 'SeriusVenus', 'jeremt22344', 'ihatemyfuckingjob', 'putnut01', 'antonivs', 'Minimalists', 'Wereflea', 'fishsticks40', 'jtwFlosper', 'Potatopsychologist', 'statelessnfaithless', 'teleportation_larry', 'beachbum818', 'VeritatisOculare', 'awaiiken', 'ardor76', 'Cersad', 'EverAwakened', 'Butchermorgan', 'Capn_Underpants', 'ubcinsecure', 'slumberpumpernickel', 'workerbotsuperhero', 'makkybear', 'hard2say', 'PelvisKick', 'Baxble', 'Laughing_at_Jakeable', 'latentobserver', 'msnook', 'Oortcloud_2', 'FrustratedPaulRevere', 'TheSpellingAsshole', 'aowood88', 'whooshbot', 'DidijustDidthat', 'Vailhem', 'MK0Q1', 'Kasuha', 'Mithryn', 'thetimeisnow', 'will1311', 'RudyardKipling', 'extinction6', 'HostOrganism', 'roadgoddess1', 'Zenigata', 'Juiceman3000', 'TaleSlinger', 'bligh8', 'Wallitron_Prime', 'Fredrikael', 'RelatedBot', 'Rayditt', 'tombudd', 'Icculus3', 'Ambassador_Kwan', 'woozalia', 'dancemart', 'Kippleherder', 'Droid2Win', 'gradstudent17', 'JamieTonight', 'MichaelTreadgold', 'mschannon', 'Sloanc14', 'jiminykrix', 'ShareAction', 'LAULitics', 'captrockwelltorrey', 'djasonwright', 'TywinsChamberpot', 'NHnakedguy', 'the_weather_man_', 'aussiegreenie', 'funnyglobalwarming', 'onedialectic', 'Occultus-', 'Johnny_Walrus', 'canoeu2', 'arsca', 'barthreesymmetry', 'graciejiujitsu', 'pocketfrog77', 'anarchyseeds', 'themessyb', 'ilovearnoldpalmers', '4_old_maps', 'Jongo_Gurmola', 'protector2', 'NoMorePricksLeft', 'sdtoking420', 'bigfig', 'Saint_14', 'idisagroo', 'JimmyBall', 'mmaakie', 'fat_genius', 'ctuser', 'mattomatica', 'dorothyknable98-6', 'nunudodo', 'chill_bro345', 'SP1C3', 'lucy99654', 'fatb0b', 'betraying_chino', 'pakaraki', 'ChoiceProductions', 'JoeBidenBot', 'cgpnz', 'treatworka', 'mikepatt615', 'toby224', 'DailMail_Bot', 'davidthomas38', 'Theobromin', 'adamwho', 'DrEscray', 'DKSArtwork', 'atheitarian', 'soco79', 'ChasesRainbow', 'maxhubris', 'Graemegourlay', 'Scope72', 'stifftongue', 'tollie', 'Saaciay', 'shinkicker6', 'Starpryme23', 'wheenan', 'Pongpianskul', 'Paradox009', 'FunHappyBall', 'MorganWick', 'fearthereaperx', 'pnutbdr', 'ConstableMaynard', '_RunYouCleverBoy_', 'HBOXNW', 'ItsAConspiracy', 'kellys_hero', '1234miles', 'Exnihilation', 'SheforACT', 'bophed', 'davy_crockett', 'keeemon', 'JohnnyMnemo', 'patron_vectras']\n"
     ]
    }
   ],
   "source": [
    "uas = []\n",
    "for i in range(0,skeptics[\"author\"].count()):\n",
    "    if not (skeptics[\"author\"].iloc[i] in uas):\n",
    "        uas.append(skeptics[\"author\"].iloc[i])\n",
    "uac = []\n",
    "for i in range(0,change[\"author\"].count()):\n",
    "    if not (change[\"author\"].iloc[i] in uac):\n",
    "        uac.append(change[\"author\"].iloc[i])\n",
    "shared_authors = []\n",
    "for i in range(0,len(uas)):\n",
    "    if uas[i] in uac and not uas[i] in shared_authors:\n",
    "        shared_authors.append(uas[i])\n",
    "for i in range(0,len(uac)):\n",
    "    if uac[i] in uac and not uac[i] in shared_authors:\n",
    "        shared_authors.append(uac[i])\n",
    "shared_authors.remove(\"[deleted]\")\n",
    "print(len(shared_authors))\n",
    "print(shared_authors)"
   ]
  }
 ],
 "metadata": {
  "kernelspec": {
   "display_name": "Python 3",
   "language": "python",
   "name": "python3"
  },
  "language_info": {
   "codemirror_mode": {
    "name": "ipython",
    "version": 3
   },
   "file_extension": ".py",
   "mimetype": "text/x-python",
   "name": "python",
   "nbconvert_exporter": "python",
   "pygments_lexer": "ipython3",
   "version": "3.7.2"
  }
 },
 "nbformat": 4,
 "nbformat_minor": 2
}
