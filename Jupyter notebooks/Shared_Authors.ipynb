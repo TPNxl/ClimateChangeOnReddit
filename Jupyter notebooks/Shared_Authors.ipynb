{
 "cells": [
  {
   "cell_type": "code",
   "execution_count": 2,
   "metadata": {},
   "outputs": [],
   "source": [
    "import pandas as pd\n",
    "import numpy as np\n",
    "import matplotlib.pyplot as plt"
   ]
  },
  {
   "cell_type": "code",
   "execution_count": 3,
   "metadata": {},
   "outputs": [],
   "source": [
    "skeptics = pd.read_csv(\"..\\Other files\\climateskeptics.csv\")\n",
    "change = pd.read_csv(\"..\\Other files\\climatechange.csv\")\n",
    "skeptics_old = pd.read_csv(\"..\\Other files\\climateskeptics.old.csv\")"
   ]
  },
  {
   "cell_type": "code",
   "execution_count": null,
   "metadata": {},
   "outputs": [],
   "source": [
    "uas = []\n",
    "for i in range(0,skeptics[\"author\"].count()):\n",
    "    if not (skeptics[\"author\"].iloc[i] in uas):\n",
    "        uas.append(skeptics[\"author\"].iloc[i])\n",
    "uac = []\n",
    "for i in range(0,change[\"author\"].count()):\n",
    "    if not (change[\"author\"].iloc[i] in uac):\n",
    "        uac.append(change[\"author\"].iloc[i])\n",
    "shared_authors = []\n",
    "for i in range(0,len(uas)):\n",
    "    if uas[i] in uac and not uas[i] in shared_authors:\n",
    "        shared_authors.append(uas[i])\n",
    "for i in range(0,len(uac)):\n",
    "    if uac[i] in uac and not uac[i] in shared_authors:\n",
    "        shared_authors.append(uac[i])\n",
    "shared_authors.remove(\"[deleted]\")\n",
    "print(len(shared_authors))\n",
    "print(shared_authors)"
   ]
  },
  {
   "cell_type": "code",
   "execution_count": 13,
   "metadata": {},
   "outputs": [
    {
     "data": {
      "text/html": [
       "<div>\n",
       "<style scoped>\n",
       "    .dataframe tbody tr th:only-of-type {\n",
       "        vertical-align: middle;\n",
       "    }\n",
       "\n",
       "    .dataframe tbody tr th {\n",
       "        vertical-align: top;\n",
       "    }\n",
       "\n",
       "    .dataframe thead th {\n",
       "        text-align: right;\n",
       "    }\n",
       "</style>\n",
       "<table border=\"1\" class=\"dataframe\">\n",
       "  <thead>\n",
       "    <tr style=\"text-align: right;\">\n",
       "      <th></th>\n",
       "      <th>author</th>\n",
       "    </tr>\n",
       "  </thead>\n",
       "  <tbody>\n",
       "  </tbody>\n",
       "</table>\n",
       "</div>"
      ],
      "text/plain": [
       "Empty DataFrame\n",
       "Columns: [author]\n",
       "Index: []"
      ]
     },
     "execution_count": 13,
     "metadata": {},
     "output_type": "execute_result"
    }
   ],
   "source": [
    "unique_authors_skeptics"
   ]
  },
  {
   "cell_type": "code",
   "execution_count": 7,
   "metadata": {},
   "outputs": [
    {
     "data": {
      "text/plain": [
       "Will_Power              717\n",
       "archiesteel             498\n",
       "[deleted]               285\n",
       "Oortcloud_2             243\n",
       "fishsticks40            199\n",
       "ozric101                110\n",
       "Kid-Quantum              96\n",
       "forrey                   84\n",
       "fartlex_m                66\n",
       "Muffy1234                59\n",
       "FireFoxG                 53\n",
       "Wereflea                 47\n",
       "logicalprogressive       45\n",
       "donaldosaurus            41\n",
       "mubukugrappa             38\n",
       "Long_dan                 36\n",
       "photoddgrapher           36\n",
       "Johnny_Walrus            36\n",
       "Juiceman3000             34\n",
       "plathtic_thong           34\n",
       "AcrossTheUniverse2       33\n",
       "dredmorbius              30\n",
       "Magsays                  27\n",
       "ILikeNeurons             24\n",
       "facepalm-germany         24\n",
       "TheFerretman             23\n",
       "michaelconfoy            23\n",
       "autotldr                 22\n",
       "LAULitics                18\n",
       "jcorkern                 18\n",
       "                       ... \n",
       "lobster_liberator         1\n",
       "MadRed7                   1\n",
       "xkcd_transcriber          1\n",
       "danielsideas              1\n",
       "kellys_hero               1\n",
       "aussiegreenie             1\n",
       "funnyglobalwarming        1\n",
       "Mauzee1                   1\n",
       "Hermeias                  1\n",
       "davidthomas38             1\n",
       "JohnnyMnemo               1\n",
       "LinkFixerBotSnr           1\n",
       "Paradox009                1\n",
       "phpnepal                  1\n",
       "tombudd                   1\n",
       "mundusvultdecipi          1\n",
       "wheenan                   1\n",
       "okcDom                    1\n",
       "danielgoerz               1\n",
       "captain_obvious_1980      1\n",
       "Cruzi2000                 1\n",
       "Butchermorgan             1\n",
       "Ebenezer_Wurstphal        1\n",
       "blondie9x                 1\n",
       "BoneyKidd                 1\n",
       "legacy_of_fail            1\n",
       "VeritatisOculare          1\n",
       "ahmrbond                  1\n",
       "Ryan_Konky                1\n",
       "woozalia                  1\n",
       "Name: author, Length: 462, dtype: int64"
      ]
     },
     "execution_count": 7,
     "metadata": {},
     "output_type": "execute_result"
    }
   ],
   "source": [
    "change[\"author\"].value_counts()"
   ]
  }
 ],
 "metadata": {
  "kernelspec": {
   "display_name": "Python 3",
   "language": "python",
   "name": "python3"
  },
  "language_info": {
   "codemirror_mode": {
    "name": "ipython",
    "version": 3
   },
   "file_extension": ".py",
   "mimetype": "text/x-python",
   "name": "python",
   "nbconvert_exporter": "python",
   "pygments_lexer": "ipython3",
   "version": "3.7.2"
  }
 },
 "nbformat": 4,
 "nbformat_minor": 2
}
