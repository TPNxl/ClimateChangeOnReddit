{
 "cells": [
  {
   "cell_type": "code",
   "execution_count": 2,
   "metadata": {},
   "outputs": [],
   "source": [
    "import pandas as pd\n",
    "import numpy as np\n",
    "import matplotlib.pyplot as plt"
   ]
  },
  {
   "cell_type": "code",
   "execution_count": 3,
   "metadata": {},
   "outputs": [],
   "source": [
    "skeptics = pd.read_csv(\"..\\Other files\\climateskeptics.csv\")\n",
    "change = pd.read_csv(\"..\\Other files\\climatechange.csv\")\n",
    "skeptics_old = pd.read_csv(\"..\\Other files\\climateskeptics.old.csv\")"
   ]
  },
  {
   "cell_type": "code",
   "execution_count": 30,
   "metadata": {},
   "outputs": [
    {
     "data": {
      "text/plain": [
       "3468"
      ]
     },
     "execution_count": 30,
     "metadata": {},
     "output_type": "execute_result"
    }
   ],
   "source": [
    "len(uas)+len(uac)-len(shared_authors)"
   ]
  },
  {
   "cell_type": "code",
   "execution_count": 27,
   "metadata": {},
   "outputs": [
    {
     "name": "stdout",
     "output_type": "stream",
     "text": [
      "461\n",
      "['somethinginteresting', 'publius_lxxii', 'heystoopid', 'Will_Power', 'JRugman', 'stp2007', 'Poptech', 'counters', 'LWRellim', 'ItsAConspiracy', 'OortCloud', 'thenwhat', 'Brimshae', 'thetimeisnow', 'RentalCanoe', 'archiesteel', 'IranRPCV', 'mattomatica', 'nuclear_is_good', 'autotldr', 'fungussa', 'jakenichols', 'yself', 'pnewell', 'ClimateMom', '5user5', 'kellymcneill', 'AcrossTheUniverse2', 'donaldosaurus', 'TheFerretman', 'Fencepost7', 'LinkFixerBot', 'climate_control', 'powersthatbe1', 'DidijustDidthat', 'meyamashi', 'keith_weaver', 'TheShittyBeatles', 'LinkFixerBotSnr', 'nikarajo', 'feepit', 'FireFoxG', 'cavehobbit', 'lucy99654', 'brianpv', 'nimbuscile', 'adamwho', 'logicalprogressive', 'patron_vectras', 'xkcd_transcriber', 'LazyLinkerBot', 'TheTravelerJim', 'daniswhopper', 'Praetor80', 'autowikibot', 'Disingenuous_', 'athomps121', 'jakenichols2', 'chchako', 'Truthoverdogma', 'bligh8', '4TimesAYear', 'ninthinning', 'Long_dan', 'TheKolbrin', 'student_of_yoshi', 'GTChessplayer', 'tentacular', 'Breakyerself', 'JohnnyMnemo', 'PinkSlimeIsPeople', 'ILikeNeurons', 'googlecacheguy', 'ahmrbond', 'KielGunner', 'Shnazzyone', 'plathtic_thong', 'michaelconfoy', 'FabiusMaximus01', 'fapstoanimalpictures', 'Kid-Quantum', 'BrutalTruth101', 'rlbond86', 'Cruzi2000', 'hintofinsanity', 'kennbmondo', 'DailMail_Bot', 'getampedin', 'cuse58', 'Tommy27', 'facepalm-germany', 'TywinsChamberpot', 'Florinator', 'chris45215', 'ishouldvelefther', 'chrisplyon', 'SomeoneRedditOnce', 'SuperSooty', 'ozric101', 'Kelly_jernigan', 'fartlex_m', 'nogodsorkings1', 'akornblatt', 'Muffy1234', 'eifer', 'JoeBidenBot', 'Wallitron_Prime', 'onedialectic', 'Juiceman3000', 'RelatedBot', 'barttali', 'Tree-Thugger', 'RudyardKipling', 'goodturndaily', 'funnyglobalwarming', 'arsca', 'NoMorePricksLeft', 'protector2', 'Johnny_Walrus', 'kellys_hero', 'Theobromin', 'fearthereaperx', 'pdeee', 'lcd_monitor', 'blackdevildisco', 'doesdrums', 'Hermeias', 'SlaveKeyboardist', 'The3rdWorld', 'Bestpaperplaneever', 'Joan_W', 'eestileib', 'trueslicky', 'balanceofpower', 'oriansbelt', 'legacy_of_fail', 'gefroh', 'orlyfactor', 'danielsideas', 'Fuzzytek', 'savemadebyhextall', 'keg98', 'internet_sage', 'mollymule', 'HurricanePete', 'neotropic9', 'asherdi', 'Surfingforchange', 'kategardiner', 'ChetnBernie', 'ianfd', 'PanachelessNihilist', 'EyeTea420', 'Skwerl23', 'Knuckle_Child', 'evelnl', 'YoRpFiSh', 'bunknown', 'astral-dwarf', 'BountyBob', 'Crash_says', 'qianian', 'alferg', 'danielgoerz', 'UncleVinny', 'fluffy5525', 'SovereignSnowman', 'Charmandine', 'luckymon', 'nfrmn', 'Marin1970', 'aether_net', 'winstoncloselabor', 'squidit', 'itgemgirl', 'octaviusromulus', 'Lifepodlifepod', 'dana1981', 'G-3-R', 'paszdahl', 'go-ozone-layer', 'hippocampe', 'mattfiller', 'Akaky', 'acasey07', 'Wisco', 'pshaffer', 'Smargalicious', 'murbe', 'svnftgmp', 'fritter_rabbit', 'captain_obvious_1980', 'dsennerud', 'lobster_liberator', 'MadRed7', 'davo112358', 'fuckyoua', 'FreeThinkk', 'johnabbe', 'DanMcMurray', 'JMS1960', 'tootouching', 'Quillchill', 'StellaMeme', 'geogrageek', 'mrmoustache8765', 'moesif', 'dmclone', 'blueskyfire', 'D832881370', 'WontReadYourComment', 'trevize1138', 'silvertam', 'RHfactored', 'plancklengthman', 'RAndrewOhge', 'phpnepal', 'okcDom', 'Armsopen', 'kandiliotis', 'DonScrub', 'dielectrician', 'mundusvultdecipi', 'icebgone', 'funspirit', '1quickdub', 'mubukugrappa', 'laxaroundtheworld', 'the_blue_whale', 'ceramicfiver', 'righteousmoss', 'Glaciologytim', 'jamaican1231', 'Ryan_Konky', 'CapriciousCactus', 'burning_consciousnes', 'thoughttheory', 'sounfunny', 'Barnesius', 'edieangelo', 'BungalowMonk', 'sorasteve', 'Ozzsanity', 'fpopper', 'Sierra_Echo_Foxtrot', 'jcorkern', 'michebru', 'Achilles-Opinion', 'WhiteWhereItHurts', 'Sluuha', 'rolldeep', 'blondie9x', 'Enderthe3rd', 'Mauzee1', 'Resp1ra', 'CaptainHoek', 'Magsays', 'Hawkeye24', 'andlookmore', 'RobertEmRu', 'amandatatts', 'Brenda_McCracken', 'photoddgrapher', 'quakerorts', 'PenguinScientist', 'dredmorbius', 'chicomathmom', 'BookwormSkates', 'PetersonToscano', 'istockporno', 'tkwong01', 'NotFromReddit', 'sdonaghy', 'BoneyKidd', 'slam7211', 'sharplet', 'rippley', 'noobftw', 'conuly', 'ibelivebut', 'RedditBronzePls', 'Ebenezer_Wurstphal', 'Voveve', 'thisiswhatitsnot', 'cessationoftime', 'Nikolatesla365', 'gihu', 'phobia_of_fear', 'drrobertbullard', 'asleepatwork', 'a_boiling_frog', 'loicwacquant', 'hongykong', 'Stacksup', 'HenryCorp', 'GodpoG', 'Xatana', 'AsianCrustacean', 'jabbrwok', 'sevenfootgimp', 'cryan1411', 'Dattausc', 'mars_omega', 'BolshevikRed', 'eastbay43', 'chitown15', 'the_coin_collecter', 'usersame', 'keozen', 'OhioJunglist2', 'ANGLVD3TH', 'forrey', 'WhoCutTheCheeze', 'clydesdaletrash', 'jhoptoad', 'huntebrinker', 'Aquareon', 'sigilvii', 'mikebigs', 'Detective_McNutty', 'Rx16', 'smokinjoewiseman', 'aronhall', 'wcmurphy19', 'paszdahl2', 'Vkmies', 'TheBaldWonder', 'funkalunatic', 'ParallaxBrew', 'ArtisticLicence', 'noshlag', 'ananhedonist', 'GarryRogers', 'Safetythirst', 'Juhic', 'SeriusVenus', 'jeremt22344', 'ihatemyfuckingjob', 'putnut01', 'antonivs', 'Minimalists', 'Wereflea', 'fishsticks40', 'jtwFlosper', 'Potatopsychologist', 'statelessnfaithless', 'teleportation_larry', 'beachbum818', 'VeritatisOculare', 'awaiiken', 'ardor76', 'Cersad', 'EverAwakened', 'Butchermorgan', 'Capn_Underpants', 'ubcinsecure', 'slumberpumpernickel', 'workerbotsuperhero', 'makkybear', 'hard2say', 'PelvisKick', 'Baxble', 'Laughing_at_Jakeable', 'latentobserver', 'msnook', 'Oortcloud_2', 'FrustratedPaulRevere', 'TheSpellingAsshole', 'aowood88', 'whooshbot', 'Vailhem', 'MK0Q1', 'Kasuha', 'Mithryn', 'will1311', 'extinction6', 'HostOrganism', 'roadgoddess1', 'Zenigata', 'TaleSlinger', 'Fredrikael', 'Rayditt', 'tombudd', 'Icculus3', 'Ambassador_Kwan', 'woozalia', 'dancemart', 'Kippleherder', 'Droid2Win', 'gradstudent17', 'JamieTonight', 'MichaelTreadgold', 'mschannon', 'Sloanc14', 'jiminykrix', 'ShareAction', 'LAULitics', 'captrockwelltorrey', 'djasonwright', 'NHnakedguy', 'the_weather_man_', 'aussiegreenie', 'Occultus-', 'canoeu2', 'barthreesymmetry', 'graciejiujitsu', 'pocketfrog77', 'anarchyseeds', 'themessyb', 'ilovearnoldpalmers', '4_old_maps', 'Jongo_Gurmola', 'sdtoking420', 'bigfig', 'Saint_14', 'idisagroo', 'JimmyBall', 'mmaakie', 'fat_genius', 'ctuser', 'dorothyknable98-6', 'nunudodo', 'chill_bro345', 'SP1C3', 'fatb0b', 'betraying_chino', 'pakaraki', 'ChoiceProductions', 'cgpnz', 'treatworka', 'mikepatt615', 'toby224', 'davidthomas38', 'DrEscray', 'DKSArtwork', 'atheitarian', 'soco79', 'ChasesRainbow', 'maxhubris', 'Graemegourlay', 'Scope72', 'stifftongue', 'tollie', 'Saaciay', 'shinkicker6', 'Starpryme23', 'wheenan', 'Pongpianskul', 'Paradox009', 'FunHappyBall', 'MorganWick', 'pnutbdr', 'ConstableMaynard', '_RunYouCleverBoy_', 'HBOXNW', '1234miles', 'Exnihilation', 'SheforACT', 'bophed', 'davy_crockett', 'keeemon']\n"
     ]
    }
   ],
   "source": [
    "uas = []\n",
    "for i in range(0,skeptics_old[\"author\"].count()):\n",
    "    if not (skeptics_old[\"author\"].iloc[i] in uas):\n",
    "        uas.append(skeptics_old[\"author\"].iloc[i])\n",
    "uac = []\n",
    "for i in range(0,change[\"author\"].count()):\n",
    "    if not (change[\"author\"].iloc[i] in uac):\n",
    "        uac.append(change[\"author\"].iloc[i])\n",
    "shared_authors = []\n",
    "for i in range(0,len(uas)):\n",
    "    if uas[i] in uac and not uas[i] in shared_authors:\n",
    "        shared_authors.append(uas[i])\n",
    "for i in range(0,len(uac)):\n",
    "    if uac[i] in uac and not uac[i] in shared_authors:\n",
    "        shared_authors.append(uac[i])\n",
    "shared_authors.remove(\"[deleted]\")\n",
    "print(len(shared_authors))\n",
    "print(shared_authors)"
   ]
  },
  {
   "cell_type": "code",
   "execution_count": 23,
   "metadata": {},
   "outputs": [],
   "source": [
    "upvotes_shared = pd.DataFrame()\n",
    "upvotes_shared[\"author\"] = \"\"\n",
    "upvotes_shared[\"votes\"] = 0\n",
    "for author in shared_authors:\n",
    "    votes = 0\n",
    "    for i in range(0,skeptics[\"ups\"].count()):\n",
    "        if skeptics_old[\"author\"].iloc[i] == author:\n",
    "            votes += skeptics[\"ups\"].iloc[i] \n",
    "    for i in range(0,change[\"ups\"].count()):\n",
    "        if skeptics_old[\"author\"].iloc[i] == author:\n",
    "            votes += skeptics[\"ups\"].iloc[i] \n",
    "    upvotes_shared.append({\"author\": author, \"votes\": votes}, ignore_index=True)"
   ]
  },
  {
   "cell_type": "code",
   "execution_count": 25,
   "metadata": {},
   "outputs": [
    {
     "data": {
      "text/html": [
       "<div>\n",
       "<style scoped>\n",
       "    .dataframe tbody tr th:only-of-type {\n",
       "        vertical-align: middle;\n",
       "    }\n",
       "\n",
       "    .dataframe tbody tr th {\n",
       "        vertical-align: top;\n",
       "    }\n",
       "\n",
       "    .dataframe thead th {\n",
       "        text-align: right;\n",
       "    }\n",
       "</style>\n",
       "<table border=\"1\" class=\"dataframe\">\n",
       "  <thead>\n",
       "    <tr style=\"text-align: right;\">\n",
       "      <th></th>\n",
       "      <th>author</th>\n",
       "      <th>votes</th>\n",
       "    </tr>\n",
       "  </thead>\n",
       "  <tbody>\n",
       "  </tbody>\n",
       "</table>\n",
       "</div>"
      ],
      "text/plain": [
       "Empty DataFrame\n",
       "Columns: [author, votes]\n",
       "Index: []"
      ]
     },
     "execution_count": 25,
     "metadata": {},
     "output_type": "execute_result"
    }
   ],
   "source": [
    "upvotes_shared"
   ]
  }
 ],
 "metadata": {
  "kernelspec": {
   "display_name": "Python 3",
   "language": "python",
   "name": "python3"
  },
  "language_info": {
   "codemirror_mode": {
    "name": "ipython",
    "version": 3
   },
   "file_extension": ".py",
   "mimetype": "text/x-python",
   "name": "python",
   "nbconvert_exporter": "python",
   "pygments_lexer": "ipython3",
   "version": "3.7.2"
  }
 },
 "nbformat": 4,
 "nbformat_minor": 2
}
